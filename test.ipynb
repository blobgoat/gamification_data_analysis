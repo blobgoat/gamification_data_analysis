{
 "cells": [
  {
   "cell_type": "code",
   "execution_count": 1,
   "metadata": {},
   "outputs": [],
   "source": [
    "## set up\n",
    "import io\n",
    "import requests\n",
    "import pandas as pd\n",
    "from pandas import DataFrame\n",
    "pd.options.display.max_columns = 200\n",
    "pd.options.display.max_rows = 4000\n",
    "from sklearn.model_selection import train_test_split\n",
    "\n",
    "\n"
   ]
  },
  {
   "cell_type": "code",
   "execution_count": 2,
   "metadata": {},
   "outputs": [],
   "source": [
    "SHEETURL: str = (\n",
    "    \"https://docs.google.com/spreadsheets/d/\"\n",
    "    \"1sptWDnGOyRcEyCHFYhyC8Y_zXGGM5jMpePRVusoSkFs/\"\n",
    "    \"edit?resourcekey=&gid=1530912831#gid=1530912831\"\n",
    ")\n",
    "\n",
    "# format for CSV https://docs.google.com/spreadsheets/d/\n",
    "# <SHEET_ID>/gviz/tq?tqx=\n",
    "# out:csv&sheet=<SHEET_NAME>\n",
    "SHEET_CSV_URL: str = (\n",
    "    \"https://docs.google.com/spreadsheets/d/\"\n",
    "    \"1sptWDnGOyRcEyCHFYhyC8Y_zXGGM5jMpePRVusoSkFs/\"\n",
    "    \"gviz/tq?tqx=out:csv&sheet=Altered/congregrated data\"\n",
    ")"
   ]
  },
  {
   "cell_type": "code",
   "execution_count": 3,
   "metadata": {},
   "outputs": [],
   "source": [
    "# global variables for our current data purposes\n",
    "Y_COLS = [\"On a scale of 1 - 5 how successful do you feel you are in SEAL lab?\",\n",
    "            \"On a scale of 1 - 5, how successful to do you feel your teammates are in SEAL lab?\",\n",
    "            \"On a scale of 1 - 5, how successful do your peers think you are in SEAL lab?\",\n",
    "            \"On whole, how would you rate your satisfaction in SEAL lab?\"\n",
    "            ]\n",
    "#G:N\n",
    "X_DEMO_COLS = [\"What group are you primarily affiliated with in SEAL Life (shows up in SEAL clan life)?\",\n",
    "            \"AGE (Congregated)\",\n",
    "            \"Gender (CONGREGATED)\",\n",
    "            \"How do you describe your sexual orientation?\",\t\n",
    "            \"Which categories best describe you?\",\n",
    "            \"Do you have any chronic condition that substantially limit your life activities?\",\n",
    "            \"If you have a disability, please indicate (if comfortable) the terms\"\n",
    "            \"that best describe the condition(s)\",\t\n",
    "            \"Which economic class do you identify with?\",\n",
    "            \"RELIGION (Congregated)\"\n",
    "            ]\n",
    "# O:U\n",
    "X_GAME_COLS = [\"When playing games, I am most motivated by...\",\n",
    "            \"I consider myself to be...\",\n",
    "            \"When playing games, I consider myself to be...\",\n",
    "            \"When playing games, I am generally...\",\n",
    "            \"When playing games, I prefer to be...\",\n",
    "            \"When playing games, I consider myself to be...\",\n",
    "            \"When playing games, I generally...\"\n",
    "            ]\n",
    "#C, V:AJ needs to be converted to scale of 1-5\n",
    "X_SEAL_COLS = [\"When I use the SEAL Sudoku Sheet Tools, I feel like I am playing a game.\",\n",
    "            \"I consider myself to be highly experienced with the SEAL Sheet Tools.\",\n",
    "            \"I find the Sudoku Sheet Tools to be aesthetically pleasing.\",\n",
    "            \"I think SEAL rank reflect my work and my team's work accurately.\",\n",
    "            \"I think SEAL leaderboard reflect my work and my team's work accurately.\",\n",
    "            \"I think SEAL YBR reflect my work and my team's work accurately.\",\n",
    "            \"I think SEAL VisTools reflect my work and my team's work accurately.\",\n",
    "            \"I think SEAL RaceTrack reflect my work and my team's work accurately.\",\n",
    "            \"I think SEAL Battle Station reflect my work and my team's work accurately.\",\n",
    "            \"I think SEAL Command Center reflect my work and my team's work accurately.\",\n",
    "            \"I understand what my SEAL statistics mean (Lab HP, Sheet HP, YBR Gold Delta, and Training Score).\",\n",
    "            \"I know exactly how my actions affect my lab statistics (Lab HP, Sheet HP, YBR Gold Delta, and Training Score).\",\n",
    "            \"Using the Sudoku Sheet Tools helps me and my team stay on track.\",\t\n",
    "            \"Using the Sudoku Sheet Tools encourages me to take risks and challenge myself.\",\n",
    "            \"Using the Sudoku Sheet Tools makes my work in SEAL more enjoyable.\"\n",
    "            ]\n",
    "#AO:AX\n",
    "X_USABILITY_COLS = [\"I think that I would like to use this system frequently.\",\n",
    "                    \"I found the system unnecessarily complex.\",\n",
    "                    \"I thought the system was easy to use.\",\n",
    "                    \"I think that I would need the support of a technical person to be able to use this system.\",\n",
    "                    \"I found the various functions in this system were well integrated.\",\n",
    "                    \"I thought there was too much inconsistency in this system.\",\n",
    "                    \"I would imagine that most people would learn to use this system very quickly.\",\n",
    "                    \"I found the system very cumbersome to use.\",\t\n",
    "                    \"I felt very confident using the system.\",\t\n",
    "                    \"I needed to learn a lot of things before I could get going with this system.\"\n",
    "                ]\n",
    "X_DROP_COLS = ['Timestamp',\n",
    "                \"Sudoku Sheet Tools are all the tools you use when actively engaging with SEAL life.\"\n",
    "                \" Like Sudoku Clan Life, Dashboard, VisTools, RaceTrack, YBR, Kanban, Rank, Battle station, Venue, etc.\",\n",
    "                \"What groups are you affiliated with in SEAL Life?\",\n",
    "                \"Have you ever developed software as a programmer for Sudoku Sheet Tools?\",\n",
    "                \"What is your current age?\",\n",
    "                \"On scale of 1-10, how confusing were the questions on this survey?\",\n",
    "                \"If you have any, we appreciate any additional feedback on the structure and questions within the survey\",\n",
    "                \"SUS Overall score\",\t\n",
    "                \"Learnability subscore\",\n",
    "                \"Usability subscore\"\n",
    "]"
   ]
  },
  {
   "cell_type": "code",
   "execution_count": 4,
   "metadata": {},
   "outputs": [],
   "source": [
    "def get_data() -> DataFrame:  # idealy we dont want to us Any, but for now\n",
    "    \"\"\"function to get the data from the google sheet\n",
    "    raises: HTTPError: if the request fails (meaning url wrong or no inter)\n",
    "\n",
    "    @returns: @type(DataFrame): the data from the google sheet\"\"\"\n",
    "\n",
    "    response = requests.get(SHEET_CSV_URL)\n",
    "    response.raise_for_status()  # Raise error if request fails\n",
    "    df: DataFrame = pd.read_csv(io.StringIO(response.text))\n",
    "    return df"
   ]
  },
  {
   "cell_type": "code",
   "execution_count": 92,
   "metadata": {},
   "outputs": [
    {
     "name": "stdout",
     "output_type": "stream",
     "text": [
      "Index(['When I use the SEAL Sudoku Sheet Tools, I feel like I am playing a game. ',\n",
      "       'I consider myself to be highly experienced with the SEAL Sheet Tools.',\n",
      "       'I find the Sudoku Sheet Tools to be aesthetically pleasing.',\n",
      "       'I think SEAL rank reflect my work and my team's work accurately.',\n",
      "       'I think SEAL leaderboard reflect my work and my team's work accurately.',\n",
      "       'I think SEAL YBR reflect my work and my team's work accurately.',\n",
      "       'I think SEAL VisTools reflect my work and my team's work accurately.',\n",
      "       'I think SEAL RaceTrack reflect my work and my team's work accurately.',\n",
      "       'I think SEAL Battle Station reflect my work and my team's work accurately.',\n",
      "       'I think SEAL Command Center reflect my work and my team's work accurately.',\n",
      "       'I understand what my SEAL statistics mean (Lab HP, Sheet HP, YBR Gold Delta, and Training Score).',\n",
      "       'I know exactly how my actions affect my lab statistics (Lab HP, Sheet HP, YBR Gold Delta, and Training Score).',\n",
      "       'Using the Sudoku Sheet Tools helps me and my team stay on track.',\n",
      "       'Using the Sudoku Sheet Tools encourages me to take risks and challenge myself.',\n",
      "       'Using the Sudoku Sheet Tools makes my work in SEAL more enjoyable.'],\n",
      "      dtype='object')\n"
     ]
    }
   ],
   "source": [
    "## ORIGINAL\n",
    "data = get_data()\n",
    "columns = data.columns\n",
    "#print(columns)\n",
    "data.shape # 68 x 55\n",
    "#data.head()\n",
    "X_SEAL_COLS = columns[21:36]\n",
    "print(X_SEAL_COLS)"
   ]
  },
  {
   "cell_type": "code",
   "execution_count": null,
   "metadata": {},
   "outputs": [
    {
     "name": "stdout",
     "output_type": "stream",
     "text": [
      "Index(['When playing games, I consider myself to be...',\n",
      "       'When playing games, I am generally...',\n",
      "       'When playing games, I prefer to be...',\n",
      "       'When playing games, I consider myself to be....1',\n",
      "       'When playing games, I generally...',\n",
      "       'When I use the SEAL Sudoku Sheet Tools, I feel like I am playing a game. ',\n",
      "       'I consider myself to be highly experienced with the SEAL Sheet Tools.',\n",
      "       'I find the Sudoku Sheet Tools to be aesthetically pleasing.',\n",
      "       'I think SEAL rank reflect my work and my team's work accurately.',\n",
      "       'I think SEAL leaderboard reflect my work and my team's work accurately.',\n",
      "       ...\n",
      "       'When playing games, I am most motivated by..._Mastering the game, Earning the most points',\n",
      "       'When playing games, I am most motivated by..._Mastering the game, Earning the most points, Working with a team',\n",
      "       'When playing games, I am most motivated by..._Mastering the game, Feeling immersed in the story/plot',\n",
      "       'When playing games, I am most motivated by..._Mastering the game, Working with a team',\n",
      "       'When playing games, I am most motivated by..._Mastering the game, Working with a team, Feeling immersed in the story/plot',\n",
      "       'When playing games, I am most motivated by..._Working with a team',\n",
      "       'When playing games, I am most motivated by..._Working with a team, Feeling immersed in the story/plot',\n",
      "       'I consider myself to be..._Equally motivated by external and internal factors',\n",
      "       'I consider myself to be..._Highly motivated by external rewards (e.g. leaderboard, badges, etc.)',\n",
      "       'I consider myself to be..._Highly motivated by internal rewards (e.g. improving my own skills, learning)'],\n",
      "      dtype='object', length=109)\n",
      "[4 2 3 3 4 4 4 3 3 4 4 2 3 3 3 3 3 4 4 4 3 2 5 3 3 3 4 5 4 3 3 3 5 2 3 4 4\n",
      " 2 4 3 3 5 3 4 1 5 2 2 3 3 3 5 5 2 5 5 4 4 2 2 3 4 3 3 2 2 4 2]\n"
     ]
    }
   ],
   "source": [
    "\n",
    "#print(columns)\n",
    "X_SEAL_COLS = columns[21:36]\n",
    "#print(X_SEAL_COLS)\n",
    "\n",
    "x_data = data.drop(columns = X_DROP_COLS + Y_COLS) # 68 x 49\n",
    "#handle X_SEAL_COLS: map disagree - agree as 1-5\n",
    "options_map = {'Strongly disagree': 1,\n",
    "                'Disagree': 2, \n",
    "                'Neutral': 3,\n",
    "                'Agree': 4,\n",
    "                'Strongly agree': 5\n",
    "            }\n",
    "x_data[X_SEAL_COLS] = x_data[X_SEAL_COLS].replace(options_map)\n",
    "# one-hot-encoding for categorical data (demographics)\n",
    "x_data = pd.get_dummies(x_data)\n",
    "print(x_data.columns)\n",
    "\n",
    "y1_data, y2_data, y3_data, y4_data = [data[col].to_numpy() for col in Y_COLS]"
   ]
  },
  {
   "cell_type": "code",
   "execution_count": 93,
   "metadata": {},
   "outputs": [],
   "source": [
    "def split_xy(data, drop_cols):\n",
    "    \"\"\"function to split the x and y data into separate ndarrays based on\n",
    "    a set of columns to be dropped\n",
    "\n",
    "    @parameter: data @type(DataFrame): unprocessed data \n",
    "    @parameter: drop_cols @type(ndarray): array of names of columns to drop\n",
    "\n",
    "    @returns: @type(ndarray): relevant x-values from data\n",
    "    @returns: @type(ndarray): y-values from data\"\"\"\n",
    "\n",
    "    x_data = data.drop(columns = drop_cols + Y_COLS) # 68 x 49\n",
    "\n",
    "    #handle X_SEAL_COLS: map disagree - agree as 1-5\n",
    "    # X_SEAL_COLS = data.columns[21:36]\n",
    "    options_map = {'Strongly disagree': 1,\n",
    "                    'Disagree': 2, \n",
    "                    'Neutral': 3,\n",
    "                    'Agree': 4,\n",
    "                    'Strongly agree': 5\n",
    "                }\n",
    "    x_data[X_SEAL_COLS] = x_data[X_SEAL_COLS].replace(options_map)\n",
    "\n",
    "    # one-hot-encoding for categorical data (demographics)\n",
    "    x_data = pd.get_dummies(x_data).to_numpy()\n",
    "    #y1_data, y2_data, y3_data, y4_data = [data[col].to_numpy() for col in Y_COLS]\n",
    "    y_data = data[Y_COLS].to_numpy()\n",
    "    return x_data, y_data\n",
    "\n"
   ]
  },
  {
   "cell_type": "code",
   "execution_count": 99,
   "metadata": {},
   "outputs": [
    {
     "name": "stdout",
     "output_type": "stream",
     "text": [
      "(47, 109) (47, 4)\n",
      "(14, 109) (14, 4)\n",
      "(7, 109) (7, 4)\n"
     ]
    }
   ],
   "source": [
    "x_data, y_data = split_xy(data, X_DROP_COLS)\n",
    "x_train, x_temp, y_train, y_temp = train_test_split(x_data, y_data, test_size=0.3)\n",
    "x_val, x_test, y_val, y_test = train_test_split(x_temp, y_temp, test_size=0.33)\n",
    "\n",
    "print(x_train.shape, y_train.shape)\n",
    "print(x_val.shape, y_val.shape)\n",
    "print(x_test.shape, y_test.shape)"
   ]
  },
  {
   "cell_type": "code",
   "execution_count": null,
   "metadata": {},
   "outputs": [],
   "source": [
    "def standardize(x_train, x_val, x_test):\n",
    "    \"\"\"function that standardizes data to normal gaussian distribution. Standardization\n",
    "    calculation is applied only to the training data.\n",
    "\n",
    "    @parameter: x_train @type(nd.array) processed x training data to be standardized \n",
    "    @parameter: x_val @type(nd.array) processed x val data to be standardized \n",
    "    @paremeter: x_test @type(nd.array) processed x-test data to be standardized\n",
    "    \"\"\"\n",
    "    scaler = StandardScaler().fit(x_train) # only fit on training data\n",
    "    x_train_stand = scaler.transform(x_train)\n",
    "    x_val_stand = scaler.transform(x_val)\n",
    "    x_test_stand = scaler.transform(x_test)\n",
    "\n",
    "    return x_train_stand, x_val_stand, x_test_stand"
   ]
  },
  {
   "cell_type": "code",
   "execution_count": 11,
   "metadata": {},
   "outputs": [],
   "source": [
    "def main():\n",
    "    \"\"\"main function to run the script\"\"\"\n",
    "    # Code to be executed when the script is run directly\n",
    "\n",
    "    # print('hello world')\n",
    "    print(get_data())\n",
    "    # Call other functions or perform operations here\n",
    "    # process data\n",
    "    # separate data into sets\n",
    "    # normalization\n",
    "    # model"
   ]
  }
 ],
 "metadata": {
  "kernelspec": {
   "display_name": "Python 3",
   "language": "python",
   "name": "python3"
  },
  "language_info": {
   "codemirror_mode": {
    "name": "ipython",
    "version": 3
   },
   "file_extension": ".py",
   "mimetype": "text/x-python",
   "name": "python",
   "nbconvert_exporter": "python",
   "pygments_lexer": "ipython3",
   "version": "3.13.2"
  }
 },
 "nbformat": 4,
 "nbformat_minor": 2
}
