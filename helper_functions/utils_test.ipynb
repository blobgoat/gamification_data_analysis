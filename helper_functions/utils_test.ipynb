{
 "cells": [
  {
   "cell_type": "code",
   "execution_count": 54,
   "metadata": {},
   "outputs": [],
   "source": [
    "## set up\n",
    "import pandas as pd\n",
    "import numpy as np\n",
    "from sklearn.model_selection import train_test_split\n",
    "from sklearn.metrics import mean_squared_error\n",
    "from pandas import DataFrame\n",
    "from sklearn.preprocessing import StandardScaler\n",
    "# from sklearn.model_selection import train_test_split\n",
    "from sklearn.linear_model import Lasso\n",
    "from sklearn.linear_model import LinearRegression\n",
    "import matplotlib.pyplot as plt\n",
    "pd.options.display.max_columns = 50\n",
    "pd.options.display.max_rows = 50\n",
    "from sklearn.model_selection import train_test_split\n"
   ]
  },
  {
   "cell_type": "code",
   "execution_count": null,
   "metadata": {},
   "outputs": [
    {
     "name": "stdout",
     "output_type": "stream",
     "text": [
      "    Beating my competitors  Mastering the game  Earning the most points  \\\n",
      "0                        1                   1                        0   \n",
      "1                        1                   0                        0   \n",
      "2                        1                   0                        1   \n",
      "3                        0                   1                        0   \n",
      "4                        0                   1                        0   \n",
      "..                     ...                 ...                      ...   \n",
      "63                       0                   0                        0   \n",
      "64                       1                   1                        0   \n",
      "65                       0                   1                        0   \n",
      "66                       0                   0                        0   \n",
      "67                       0                   1                        0   \n",
      "\n",
      "    Working with a team  Feeling immersed in the story/plot  \n",
      "0                     0                                   0  \n",
      "1                     1                                   0  \n",
      "2                     0                                   1  \n",
      "3                     1                                   0  \n",
      "4                     0                                   1  \n",
      "..                  ...                                 ...  \n",
      "63                    0                                   1  \n",
      "64                    0                                   0  \n",
      "65                    1                                   1  \n",
      "66                    0                                   1  \n",
      "67                    0                                   0  \n",
      "\n",
      "[68 rows x 5 columns]\n"
     ]
    }
   ],
   "source": [
    "import importlib\n",
    "import utils\n",
    "\n",
    "importlib.reload(utils)  # Forces Python to reload the updated module\n",
    "\n",
    "df: DataFrame = utils.get_data()\n",
    "motivated_by_column: DataFrame = pd.DataFrame(df[\"When playing games, I am most motivated by...\"])\n",
    "#janky test TODO (for onboarders): make a proper test\n",
    "split_col: DataFrame = utils.split_motivation_column()\n",
    "\n",
    "print(split_col)"
   ]
  }
 ],
 "metadata": {
  "kernelspec": {
   "display_name": "Python 3",
   "language": "python",
   "name": "python3"
  },
  "language_info": {
   "codemirror_mode": {
    "name": "ipython",
    "version": 3
   },
   "file_extension": ".py",
   "mimetype": "text/x-python",
   "name": "python",
   "nbconvert_exporter": "python",
   "pygments_lexer": "ipython3",
   "version": "3.11.9"
  }
 },
 "nbformat": 4,
 "nbformat_minor": 2
}
