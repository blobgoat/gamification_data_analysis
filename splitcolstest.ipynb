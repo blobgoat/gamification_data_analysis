{
 "cells": [
  {
   "cell_type": "code",
   "execution_count": 6,
   "metadata": {},
   "outputs": [],
   "source": [
    "## set up\n",
    "import io\n",
    "import requests\n",
    "import pandas as pd\n",
    "import numpy as np\n",
    "from sklearn.model_selection import train_test_split\n",
    "from sklearn.metrics import mean_squared_error\n",
    "from pandas import DataFrame\n",
    "from sklearn.preprocessing import StandardScaler\n",
    "# from sklearn.model_selection import train_test_split\n",
    "from sklearn.linear_model import Lasso\n",
    "from sklearn.linear_model import LinearRegression\n",
    "import matplotlib.pyplot as plt\n",
    "pd.options.display.max_columns = 50\n",
    "pd.options.display.max_rows = 50\n",
    "from sklearn.model_selection import train_test_split"
   ]
  },
  {
   "cell_type": "code",
   "execution_count": 8,
   "metadata": {},
   "outputs": [],
   "source": [
    "SHEETURL: str = (\n",
    "    \"https://docs.google.com/spreadsheets/d/\"\n",
    "    \"1sptWDnGOyRcEyCHFYhyC8Y_zXGGM5jMpePRVusoSkFs/\"\n",
    "    \"edit?resourcekey=&gid=1530912831#gid=1530912831\"\n",
    ")\n",
    "\n",
    "# format for CSV https://docs.google.com/spreadsheets/d/\n",
    "# <SHEET_ID>/gviz/tq?tqx=\n",
    "# out:csv&sheet=<SHEET_NAME>\n",
    "SHEET_CSV_URL: str = (\n",
    "    \"https://docs.google.com/spreadsheets/d/\"\n",
    "    \"1sptWDnGOyRcEyCHFYhyC8Y_zXGGM5jMpePRVusoSkFs/\"\n",
    "    \"gviz/tq?tqx=out:csv&sheet=Altered/congregrated data\"\n",
    ")"
   ]
  },
  {
   "cell_type": "code",
   "execution_count": 9,
   "metadata": {},
   "outputs": [],
   "source": [
    "#load it\n",
    "def get_data() -> DataFrame:  # idealy we dont want to us Any, but for now\n",
    "    \"\"\"function to get the data from the google sheet\n",
    "    raises: HTTPError: if the request fails (meaning url wrong or no inter)\n",
    "\n",
    "    @returns: @type(DataFrame): the data from the google sheet\"\"\"\n",
    "\n",
    "    response = requests.get(SHEET_CSV_URL)\n",
    "    response.raise_for_status()  # Raise error if request fails\n",
    "    df: DataFrame = pd.read_csv(io.StringIO(response.text))\n",
    "    return df\n",
    "\n",
    "df: DataFrame = get_data()"
   ]
  },
  {
   "cell_type": "code",
   "execution_count": null,
   "metadata": {},
   "outputs": [],
   "source": [
    "#test splitcol\n",
    "def split_motivation_column(df: DataFrame) -> DataFrame:\n",
    "    \"\"\"\n",
    "    splits the motivation column into multiple dataframe columns with binary values\n",
    "    @throws relevant errors if the dataframe is empty, or more than one column is passed\n",
    "    @param{df} @type{DataFrae}: the dataframe to split the motivation column\n",
    "    @returns @type{DataFrame}: the new dataframe with the split columns\n",
    "    \"\"\"\n",
    "    if(df.empty):\n",
    "        raise ValueError(\"Dataframe is empty\")\n",
    "    \n",
    "    if(len(df.columns) > 1):\n",
    "        raise ValueError(\"Only one column is allowed\")\n",
    "\n",
    "    motivation_types = [\n",
    "        \"Beating my competitors\",\n",
    "        \"Mastering the game\",\n",
    "        \"Earning the most points\",\n",
    "        \"Working with a team\",\n",
    "        \"Feeling immersed in the story/plot\"\n",
    "    ]\n",
    "\n",
    "    # Create the new DataFrame\n",
    "    new_df: DataFrame = pd.DataFrame()\n",
    "\n",
    "    for motivation in motivation_types:\n",
    "        new_df[motivation] = df[\"When playing games, I am most motivated by...\"].apply(lambda x: 1 if motivation in x else 0)\n",
    "\n",
    "    return new_df\n"
   ]
  },
  {
   "cell_type": "code",
   "execution_count": 13,
   "metadata": {},
   "outputs": [
    {
     "name": "stdout",
     "output_type": "stream",
     "text": [
      "    Beating my competitors  Mastering the game  Earning the most points  \\\n",
      "0                        1                   1                        0   \n",
      "1                        1                   0                        0   \n",
      "2                        1                   0                        1   \n",
      "3                        0                   1                        0   \n",
      "4                        0                   1                        0   \n",
      "..                     ...                 ...                      ...   \n",
      "63                       0                   0                        0   \n",
      "64                       1                   1                        0   \n",
      "65                       0                   1                        0   \n",
      "66                       0                   0                        0   \n",
      "67                       0                   1                        0   \n",
      "\n",
      "    Working with a team  Feeling immersed in the story/plot  \n",
      "0                     0                                   0  \n",
      "1                     1                                   0  \n",
      "2                     0                                   1  \n",
      "3                     1                                   0  \n",
      "4                     0                                   1  \n",
      "..                  ...                                 ...  \n",
      "63                    0                                   1  \n",
      "64                    0                                   0  \n",
      "65                    1                                   1  \n",
      "66                    0                                   1  \n",
      "67                    0                                   0  \n",
      "\n",
      "[68 rows x 5 columns]\n"
     ]
    }
   ],
   "source": [
    "split_col: DataFrame = split_motivation_column(df)\n",
    "\n",
    "print(split_col)"
   ]
  }
 ],
 "metadata": {
  "kernelspec": {
   "display_name": "Python 3",
   "language": "python",
   "name": "python3"
  },
  "language_info": {
   "codemirror_mode": {
    "name": "ipython",
    "version": 3
   },
   "file_extension": ".py",
   "mimetype": "text/x-python",
   "name": "python",
   "nbconvert_exporter": "python",
   "pygments_lexer": "ipython3",
   "version": "3.11.9"
  }
 },
 "nbformat": 4,
 "nbformat_minor": 2
}
